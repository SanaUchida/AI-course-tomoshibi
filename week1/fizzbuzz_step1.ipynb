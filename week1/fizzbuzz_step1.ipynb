list = []
for i in range(1,21):
  if i%3 == 0:
    list.append('Multiple of 3')
  else:
    list.append(i)
print(list)
