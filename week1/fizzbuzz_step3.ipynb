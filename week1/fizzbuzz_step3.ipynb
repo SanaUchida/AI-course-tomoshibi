def generate_fizzbuzz(max_num):
  list = []
  for i in range(1,max_num + 1):
    if i%15 == 0 :
      list.append('FizzBuzz')
    elif i%3 == 0:
      list.append('Fizz')
    elif i%5 == 0:
      list.append('Buzz')
    else:
      list.append(i)
  print(list)

generate_fizzbuzz(100)
